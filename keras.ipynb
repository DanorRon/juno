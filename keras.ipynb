{
  "nbformat": 4,
  "nbformat_minor": 0,
  "metadata": {
    "colab": {
      "name": "keras.ipynb",
      "version": "0.3.2",
      "provenance": [],
      "collapsed_sections": [],
      "include_colab_link": true
    },
    "kernelspec": {
      "name": "python3",
      "display_name": "Python 3"
    },
    "accelerator": "GPU"
  },
  "cells": [
    {
      "cell_type": "markdown",
      "metadata": {
        "id": "view-in-github",
        "colab_type": "text"
      },
      "source": [
        "<a href=\"https://colab.research.google.com/github/DanorRon/juno/blob/master/keras.ipynb\" target=\"_parent\"><img src=\"https://colab.research.google.com/assets/colab-badge.svg\" alt=\"Open In Colab\"/></a>"
      ]
    },
    {
      "metadata": {
        "id": "xqgfIgYprz7R",
        "colab_type": "code",
        "colab": {}
      },
      "cell_type": "code",
      "source": [
        "import tensorflow as tf\n",
        "from tensorflow.keras import layers\n",
        "import numpy as np\n",
        "import pandas as pd"
      ],
      "execution_count": 0,
      "outputs": []
    },
    {
      "metadata": {
        "id": "TcisPmGW1IEF",
        "colab_type": "code",
        "colab": {}
      },
      "cell_type": "code",
      "source": [
        "!git clone https://github.com/DanorRon/first-repository\n",
        "%cd first-repository\n",
        "!ls"
      ],
      "execution_count": 0,
      "outputs": []
    },
    {
      "metadata": {
        "id": "UfvfWtKbW3pc",
        "colab_type": "code",
        "outputId": "53c180ab-c705-41cf-95c2-ce12a05ce867",
        "colab": {
          "base_uri": "https://localhost:8080/",
          "height": 85
        }
      },
      "cell_type": "code",
      "source": [
        "%cd sample_data\n",
        "!ls"
      ],
      "execution_count": 0,
      "outputs": [
        {
          "output_type": "stream",
          "text": [
            "/content/sample_data\n",
            "anscombe.json\t\t      mnist_test.csv\n",
            "california_housing_test.csv   mnist_train_small.csv\n",
            "california_housing_train.csv  README.md\n"
          ],
          "name": "stdout"
        }
      ]
    },
    {
      "metadata": {
        "id": "xcaRWPZg0fTc",
        "colab_type": "code",
        "colab": {}
      },
      "cell_type": "code",
      "source": [
        "batch_size = 100\n",
        "epochs = 100\n",
        "alpha = 0.001\n",
        "lambda_ = 0.001\n",
        "h1 = 50"
      ],
      "execution_count": 0,
      "outputs": []
    },
    {
      "metadata": {
        "colab_type": "code",
        "id": "uG5GIy0Se4up",
        "colab": {}
      },
      "cell_type": "code",
      "source": [
        "#train = pd.read_csv('/content/first-repository/mnist_train.csv.zip')\n",
        "#test = pd.read_csv('/content/first-repository/mnist_test.csv.zip')\n",
        "\n",
        "train = pd.read_csv('/content/sample_data/mnist_train_small.csv')\n",
        "test = pd.read_csv('/content/sample_data/mnist_test.csv')\n",
        "\n",
        "train = train.loc['0':'5000', :]\n",
        "test = test.loc['0':'2000', :]\n",
        "\n",
        "train = train.sample(frac=1).reset_index(drop=True)\n",
        "test = test.sample(frac=1).reset_index(drop=True)\n",
        "\n",
        "x_train = train.loc[:, '0':'0.590']\n",
        "y_train = train.loc[:, '6']\n",
        "\n",
        "x_test = test.loc[:, '0':'0.590']\n",
        "y_test = test.loc[:, '7']\n",
        "\n",
        "x_train = x_train.values\n",
        "y_train = y_train.values\n",
        "\n",
        "x_test = x_test.values\n",
        "y_test = y_test.values\n",
        "\n",
        "#x_train = tf.keras.utils.to_categorical(x_train)\n",
        "#y_train = tf.keras.utils.to_categorical(y_train)\n",
        "#x_test = tf.keras.utils.to_categorical(x_test)\n",
        "#y_test = tf.keras.utils.to_categorical(y_test)\n",
        "\n",
        "nb_classes = 10\n",
        "targets = y_train.reshape(-1)\n",
        "y_train_onehot = np.eye(nb_classes)[targets]\n",
        "\n",
        "nb_classes = 10\n",
        "targets = y_test.reshape(-1)\n",
        "y_test_onehot = np.eye(nb_classes)[targets]\n",
        "\n",
        "#pd.set_option('display.max_columns', 800)\n",
        "#train"
      ],
      "execution_count": 0,
      "outputs": []
    },
    {
      "metadata": {
        "id": "zaUQsf4Mwrwf",
        "colab_type": "code",
        "colab": {}
      },
      "cell_type": "code",
      "source": [
        "model = tf.keras.Sequential()\n",
        "model.add(layers.Dense(784, input_shape=(784,), activation='relu'))\n",
        "#model.add(layers.Dense(h1, activation='relu'))\n",
        "model.add(layers.Dense(10, activation='softmax'))"
      ],
      "execution_count": 0,
      "outputs": []
    },
    {
      "metadata": {
        "id": "3hTDkEAT4axn",
        "colab_type": "code",
        "colab": {}
      },
      "cell_type": "code",
      "source": [
        "model.compile(optimizer='adam',\n",
        "             loss = 'sparse_categorical_crossentropy',\n",
        "             metrics = ['accuracy'])"
      ],
      "execution_count": 0,
      "outputs": []
    },
    {
      "metadata": {
        "id": "XRh1rhof6ZVh",
        "colab_type": "code",
        "colab": {}
      },
      "cell_type": "code",
      "source": [
        "model.fit(x_train, y_train, epochs=epochs, batch_size=batch_size)"
      ],
      "execution_count": 0,
      "outputs": []
    },
    {
      "metadata": {
        "id": "jAX8LiKgm4qg",
        "colab_type": "code",
        "colab": {}
      },
      "cell_type": "code",
      "source": [
        "model.evaluate(x_test, y_test_onehot, batch_size=batch_size)"
      ],
      "execution_count": 0,
      "outputs": []
    },
    {
      "metadata": {
        "id": "4nl2jXnoXGRo",
        "colab_type": "code",
        "colab": {}
      },
      "cell_type": "code",
      "source": [
        "prediction = model.predict_classes(x_test)\n",
        "for i in range(20):\n",
        "  print(prediction[i])"
      ],
      "execution_count": 0,
      "outputs": []
    },
    {
      "metadata": {
        "id": "kArjrGUWZS4p",
        "colab_type": "code",
        "colab": {}
      },
      "cell_type": "code",
      "source": [
        "print(y_test[0:20])"
      ],
      "execution_count": 0,
      "outputs": []
    }
  ]
}